{
 "cells": [
  {
   "cell_type": "markdown",
   "metadata": {},
   "source": [
    "# Introduction to Alan\n",
    "\n",
    "Alan is a probabilistic programming language that aims to provide a simple and intuitive way to perform fast Bayesian inference. In particular it is designed to showcase the \"Massively Parallel\" framework as outline in [[Massively Parallel Reweighted Wake-Sleep]](https://arxiv.org/abs/2305.11022). This introduction assumes some prior familiarity with Bayesian inference and in particular variational Bayesian methods, for those who are not familiar with these [[Variational Inference: A Review for Statisticians]](https://arxiv.org/abs/1601.00670) gives a good overview.\n",
    "\n",
    "In this introduction we will cover the following topics:"
   ]
  },
  {
   "cell_type": "markdown",
   "metadata": {},
   "source": [
    "# Outline\n",
    "* [Introduction](#Introduction-to-Alan)\n",
    "* [Setup](#Setup)\n",
    "* [Background](#Background)\n",
    "    * [Variational Inference](#Variational-Inference)\n",
    "    * [Importance Sampling](#Importance-Sampling)\n",
    "        * [Massively Parallel Importance Sampling](#Massively-Parallel-Importance-Sampling)\n",
    "    * [Reweighted Wake-Sleep](#Reweighted-Wake-Sleep)\n",
    "    * [Plated Models](#Plated-Models)\n",
    "        * [MovieLens](#MovieLens)\n",
    "\n"
   ]
  },
  {
   "cell_type": "markdown",
   "metadata": {},
   "source": [
    "# Setup\n",
    "\n",
    "Lets get our imports out of the way first."
   ]
  },
  {
   "cell_type": "code",
   "execution_count": 12,
   "metadata": {},
   "outputs": [],
   "source": [
    "import torch as t\n",
    "import torch.nn as nn\n",
    "import alan\n",
    "\n",
    "import matplotlib.pyplot as plt\n",
    "\n",
    "alan.seed_torch(0)"
   ]
  },
  {
   "cell_type": "markdown",
   "metadata": {},
   "source": [
    "# Background\n",
    "\n",
    "In the Bayesian inference framework we reason about unknown quantities, for instance the parameters of a model, by specifying a model that describes how the data was generated. We then use Bayes rule to compute the posterior distribution over the unknown quantities given the data.\n",
    "\n",
    "In general this is intractable and so we must resort to approximations. Probabilistic programming languages provide a convenient way to specify a model and then perform inference on it. Using Alan you can specity a prior $p(\\theta)$, a likelihood $p(x|\\theta)$ as follows:\n"
   ]
  },
  {
   "cell_type": "code",
   "execution_count": 13,
   "metadata": {},
   "outputs": [],
   "source": [
    "def P(tr):\n",
    "    '''\n",
    "    Bayesian Gaussian Model\n",
    "    '''\n",
    "    a = t.zeros(5)\n",
    "    tr('mu', alan.Normal(a, t.ones(5)))\n",
    "    tr('obs', alan.MultivariateNormal(tr['mu'], t.eye(5)))"
   ]
  },
  {
   "cell_type": "markdown",
   "metadata": {},
   "source": [
    "We can then sample some synthetic data from this generative model:"
   ]
  },
  {
   "cell_type": "code",
   "execution_count": 14,
   "metadata": {},
   "outputs": [],
   "source": [
    "data = alan.Model(P).sample_prior(varnames=('obs',))"
   ]
  },
  {
   "cell_type": "markdown",
   "metadata": {},
   "source": [
    "\n",
    "Then we can perform inference in the following ways: \n",
    "\n",
    "1. approximate the posterior $p(\\theta|x)$ using a variational approximation $q_\\phi(\\theta)$\n",
    "2. sample from the posterior $p(\\theta|x)$\n",
    "3. compute importance weighted moment estimates of the posterior $p(\\theta|x)$\n",
    "\n",
    "Lets look first at variational inference.\n"
   ]
  },
  {
   "cell_type": "markdown",
   "metadata": {},
   "source": [
    "## Variational Inference\n",
    "\n",
    "Variational inference is a method for approximating the posterior distribution $p(\\theta|x)$ by finding the member of a family of distributions $q_\\phi(\\theta)$ that is closest to the posterior in terms of the KL divergence between them.\n",
    "\n",
    "Our approximate posterior is a member of a family of distributions $q_\\phi(\\theta)$ parameterised by $\\phi$. We can then write the KL divergence between the approximate posterior and the true posterior as:\n",
    "$$\n",
    "\\begin{align}\n",
    "\\phi^* &= \\arg\\min_\\phi \\text{KL}(q_\\phi(\\theta)||p(\\theta|x)) \\\\\n",
    "&= \\arg\\min_\\phi \\mathbb{E}_{q_\\phi(\\theta)}\\left[\\log q_\\phi(\\theta) - \\log p(\\theta|x)\\right] \\\\\n",
    "&= \\arg\\min_\\phi \\mathbb{E}_{q_\\phi(\\theta)}\\left[\\log q_\\phi(\\theta) - \\log p(x|\\theta) - \\log p(\\theta)\\right] \\\\\n",
    "\\end{align}\n",
    "$$\n",
    "\n",
    "In Alan we can define a variational distribution by specifying the type of distribution we want to use and the parameters of that distribution as follows:\n"
   ]
  },
  {
   "cell_type": "code",
   "execution_count": 15,
   "metadata": {},
   "outputs": [],
   "source": [
    "class Q(alan.AlanModule):\n",
    "    def __init__(self):\n",
    "        super().__init__()\n",
    "        self.m_mu = nn.Parameter(t.zeros(5,))\n",
    "        self.log_s_mu = nn.Parameter(t.zeros(5,))\n",
    "\n",
    "    def forward(self, tr):\n",
    "        tr('mu', alan.Normal(self.m_mu, self.log_s_mu.exp()))"
   ]
  },
  {
   "cell_type": "markdown",
   "metadata": {},
   "source": [
    "and then we can define an Alan \"model\" conditioned on the synthetic data from above:"
   ]
  },
  {
   "cell_type": "code",
   "execution_count": 16,
   "metadata": {},
   "outputs": [],
   "source": [
    "cond_model = alan.Model(P, Q()).condition(data=data)"
   ]
  },
  {
   "cell_type": "markdown",
   "metadata": {},
   "source": [
    "We can find the optimal parameters of the variational distribution by minimising the KL divergence between the variational distribution and the posterior using gradient descent. In Alan we do this as follows:"
   ]
  },
  {
   "cell_type": "code",
   "execution_count": 24,
   "metadata": {},
   "outputs": [
    {
     "name": "stdout",
     "output_type": "stream",
     "text": [
      "K=1\n",
      "-7.331614152356114\n",
      "-7.018507921119259\n",
      "-7.369998824582947\n",
      "-7.439181310228523\n",
      "-7.420816972518029\n",
      "-7.2609127240957605\n",
      "-7.42427314894479\n",
      "-7.286349303982281\n",
      "-7.29899514643861\n",
      "-7.237515069290502\n"
     ]
    }
   ],
   "source": [
    "opt = t.optim.Adam(cond_model.parameters(), lr=1e-3)\n",
    "\n",
    "K=1\n",
    "print(\"K={}\".format(K))\n",
    "for i in range(2000):\n",
    "    opt.zero_grad()\n",
    "    elbo = cond_model.sample_perm(K, True).elbo()\n",
    "    (-elbo).backward()\n",
    "    opt.step()\n",
    "\n",
    "    if 0 == i%200:\n",
    "        print(elbo.item())"
   ]
  },
  {
   "cell_type": "markdown",
   "metadata": {},
   "source": [
    "## Importance Sampling\n",
    "\n",
    "Above you will notice that we define $K=1$. In Alan we use importance weighted estimates of the log marginal likelihood to calculate our objects and other terms of interest. This means that we draw samples from our approximate posterior and then weight them by the ratio of the posterior and the variational distribution. We can write the evidence lower bound (ELBO) in the single sample setting as follows:\n",
    "\n",
    "$$\n",
    "\\begin{align}\n",
    "\\log p(x) &= \\log \\mathbb{E}_{q_\\phi(\\theta)}\\left[\\frac{p(x, \\theta)}{q_\\phi(\\theta)}\\right] \\\\\n",
    "&\\geq \\mathbb{E}_{q_\\phi(\\theta)}\\left[ \\log \\frac{p(x, \\theta)}{q_\\phi(\\theta)}\\right] \\\\\n",
    "&= \\mathbb{E}_{q_\\phi(\\theta)}\\left[ \\log \\mathcal{P} \\right]\n",
    "\\end{align}\n",
    "$$\n",
    "\n",
    "Where $\\log \\mathcal{P} = \\log \\frac{p(x, \\theta)}{q_\\phi(\\theta)}$ is an unbiased estimate of the log marginal likelihood (when samples are drawn from $q_\\phi(\\theta)$). We can then recover a number of methods of interest by making difference choices of $\\mathcal{P}$. For instance, we can recover the [[Importance weighted autoencoder]](https://arxiv.org/pdf/1509.00519.pdf) lower bound by taking multiple importance samples to obtain a better estimate of the log marginal likelihood like so:\n",
    "\n",
    "$$\n",
    "\\begin{align}\n",
    "\\log p(x) &\\geq \\mathbb{E}_{\\theta_k \\sim q_\\phi(\\theta)}\\left[ \\log \\frac{1}{K}\\sum_{k=1}^K \\frac{p(x, \\theta_k)}{q_\\phi(\\theta_k)} \\right] \\\\\n",
    "&= \\mathbb{E}_{q_\\phi(\\theta)}\\left[ \\log \\mathcal{P_{\\text{IW}}} \\right] \\\\\n",
    "\\end{align}\n",
    "$$\n",
    "\n",
    "We can perform VI using importance weighted estimates of the log marginal likelihood as follows:"
   ]
  },
  {
   "cell_type": "code",
   "execution_count": 18,
   "metadata": {},
   "outputs": [
    {
     "name": "stdout",
     "output_type": "stream",
     "text": [
      "K=5\n"
     ]
    },
    {
     "ename": "AttributeError",
     "evalue": "module 'alan.traces' has no attribute 'TraceQGlobal'",
     "output_type": "error",
     "traceback": [
      "\u001b[0;31m---------------------------------------------------------------------------\u001b[0m",
      "\u001b[0;31mAttributeError\u001b[0m                            Traceback (most recent call last)",
      "Cell \u001b[0;32mIn[18], line 8\u001b[0m\n\u001b[1;32m      6\u001b[0m \u001b[39mfor\u001b[39;00m i \u001b[39min\u001b[39;00m \u001b[39mrange\u001b[39m(\u001b[39m1000\u001b[39m):\n\u001b[1;32m      7\u001b[0m     opt\u001b[39m.\u001b[39mzero_grad()\n\u001b[0;32m----> 8\u001b[0m     elbo \u001b[39m=\u001b[39m cond_model\u001b[39m.\u001b[39;49msample_global(K, \u001b[39mTrue\u001b[39;49;00m)\u001b[39m.\u001b[39melbo()\n\u001b[1;32m      9\u001b[0m     (\u001b[39m-\u001b[39melbo)\u001b[39m.\u001b[39mbackward()\n\u001b[1;32m     10\u001b[0m     opt\u001b[39m.\u001b[39mstep()\n",
      "File \u001b[0;32m~/Work/alan/alan/model.py:93\u001b[0m, in \u001b[0;36mSampleMixin.sample_global\u001b[0;34m(self, *args, **kwargs)\u001b[0m\n\u001b[1;32m     89\u001b[0m \u001b[39mdef\u001b[39;00m \u001b[39msample_global\u001b[39m(\u001b[39mself\u001b[39m, \u001b[39m*\u001b[39margs, \u001b[39m*\u001b[39m\u001b[39m*\u001b[39mkwargs):\n\u001b[1;32m     90\u001b[0m \u001b[39m    \u001b[39m\u001b[39mr\u001b[39m\u001b[39m\"\"\"\u001b[39;00m\n\u001b[1;32m     91\u001b[0m \u001b[39m    Sample from the model where K samples are drawn from the whole latent space with no combinations\u001b[39;00m\n\u001b[1;32m     92\u001b[0m \u001b[39m    \"\"\"\u001b[39;00m\n\u001b[0;32m---> 93\u001b[0m     \u001b[39mreturn\u001b[39;00m \u001b[39mself\u001b[39m\u001b[39m.\u001b[39msample_tensor(traces\u001b[39m.\u001b[39;49mTraceQGlobal, \u001b[39m*\u001b[39margs, \u001b[39m*\u001b[39m\u001b[39m*\u001b[39mkwargs)\n",
      "\u001b[0;31mAttributeError\u001b[0m: module 'alan.traces' has no attribute 'TraceQGlobal'"
     ]
    }
   ],
   "source": [
    "# Inference using K=5 samples from the approximate posterior\n",
    "opt = t.optim.Adam(cond_model.parameters(), lr=1e-3)\n",
    "\n",
    "K=5\n",
    "print(\"K={}\".format(K))\n",
    "for i in range(2000):\n",
    "    opt.zero_grad()\n",
    "    elbo = cond_model.sample_global(K, True).elbo()\n",
    "    (-elbo).backward()\n",
    "    opt.step()\n",
    "\n",
    "    if 0 == i%200:\n",
    "        print(elbo.item())"
   ]
  },
  {
   "cell_type": "markdown",
   "metadata": {},
   "source": [
    "``model.sample_global`` is the function alan uses to do \"regular\" importance sampling as described above. But the real point of Alan is to use the \"Massively Parallel\" framework to perform importance sampling in a more efficient way."
   ]
  },
  {
   "cell_type": "markdown",
   "metadata": {},
   "source": [
    "### Massively Parallel Importance Sampling\n",
    "\n",
    "If we instead draw $K$ samples of each latent variable ($n$) Alan, and its massively parallel estimates of the log marginal likelihood, can be used to reason about all $K^n$ combinations of samples. To ease thinking about this, we denote the collection of K samples for latent $i$ as \n",
    "\n",
    "$$ \n",
    "z_i = \\{z_{i}^1, z_{i}^2, \\dots, z_{i}^K\\} \\in \\mathcal{Z}_i^K\n",
    "$$\n",
    "\n",
    "We sample these from IID distributions over the samples:\n",
    "\n",
    "$$\n",
    "Q_\\text{MP}(z|x) = \\prod_{i=1}^n Q_\\text{MP}(z_i|z_j \\text{ for all } j \\in \\text{qa}(i))\n",
    "$$\n",
    "\n",
    "where $\\text{qa}(i)$ denotes the parents of $z_i$ in the approximate posterior. We can choose how to construct $Q_\\text{MP}$, each choice being a different way of mixing across parent particles. More details can be found in appendix B of [[Massively Parallel Reweighted Wake-Sleep]](https://arxiv.org/abs/2305.11022).\n",
    "\n",
    "This construction should result in tighter evidence lower bounds in VI and better estimates of the posterior in sampling. In Alan we can perform massively parallel importance sampling VI as follows:"
   ]
  },
  {
   "cell_type": "code",
   "execution_count": 22,
   "metadata": {},
   "outputs": [
    {
     "name": "stdout",
     "output_type": "stream",
     "text": [
      "K=10\n",
      "-7.357962184521081\n",
      "-7.322980667965933\n",
      "-7.354314514434495\n",
      "-7.35736023585982\n",
      "-7.341047118544817\n",
      "-7.306613158307386\n",
      "-7.382165646203613\n",
      "-7.335521611281054\n",
      "-7.2797140135494764\n",
      "-7.325921657734655\n"
     ]
    }
   ],
   "source": [
    "# Inference using K=10 samples from the approximate posterior\n",
    "opt = t.optim.Adam(cond_model.parameters(), lr=1e-3)\n",
    "\n",
    "K=10\n",
    "print(\"K={}\".format(K))\n",
    "for i in range(2000):\n",
    "    opt.zero_grad()\n",
    "    ## Corresponds to permuting parent particles:\n",
    "    elbo = cond_model.sample_perm(K, True).elbo() \n",
    "    (-elbo).backward()\n",
    "    opt.step()\n",
    "\n",
    "    if 0 == i%200:\n",
    "        print(elbo.item())"
   ]
  },
  {
   "cell_type": "markdown",
   "metadata": {},
   "source": [
    "## (Massively Parallel) Reweighted Wake-Sleep\n",
    "\n",
    "[[Reweighted wake-sleep]](https://arxiv.org/abs/1406.2751) is a method for training generative models that uses importance sampling to estimate the gradient of the log marginal likelihood with respect to the parameters of the model. It is a generalisation of [[wake-sleep]](https://www.mitpressjournals.org/doi/abs/10.1162/neco.1995.7.3.445) that allows us to use any variational distribution and any generative model. In particular, since reparaterisation is not required, it can be used with discrete latent variables.\n",
    "\n",
    "Unlike variational inference, reweighted wake-sleep doesn't have a unified objective. Instead it updates the parameters of the generative model and the approximate posterior with two different updates. In an ideal world where we had access to the true posterior we would perform:\n",
    "\n",
    "$$\n",
    "\\begin{align}\n",
    "  \\Delta \\theta_\\text{post} &= \\mathbb{E}_{P_\\theta(z^k| x)}[\\nabla_\\theta \\log P_\\theta(z, x)]\\\\\n",
    "  \\Delta \\phi_\\text{post} &= \\mathbb{E}_{P_\\theta(z^k| x)}[\\nabla_\\phi   \\log Q_\\phi(z| x)]\n",
    "\\end{align}\n",
    "$$\n",
    "\n",
    "The update for the parameters of P is the M-step in EM, and the update for the parameters of Q is maximum likelihood using samples from the true posterior.\n",
    "\n",
    "Since we don't have access to the true posterior we can sample from the approximate posterior and perform importance weighting. Noting that both of these updates are expectations under the approximate posterior we can write them in the form $\\Delta_\\text{post} = \\mathbb{E}_{P_\\theta(z^k| x)}[\\Delta(z^k)]$ and thus we get:\n",
    "\n",
    "$$\n",
    "\\begin{align}\n",
    "\\Delta_\\text{post} = \\mathbb{E}_{Q_\\phi(z^k| x)}\\left[\\frac{P_\\theta(z^k| x)}{Q_\\phi(z^k| x)}\\Delta(z^k)\\right]\n",
    "\\end{align}\n",
    "$$\n",
    "\n",
    "But since $P_\\theta(z^k| x) = \\frac{P_\\theta(z^k, x)}{P_\\theta(x)}$, and we can't usually compute $P_\\theta(x)$, we can instead use the unbiased importance weighting estimate of $P_\\theta(x)$ from earlier:\n",
    "\n",
    "$$\n",
    "\\begin{align}\n",
    "\\Delta_\\text{post} = \\mathbb{E}_{Q_\\phi(z^k| x)}\\left[\\frac{\\frac{P_\\theta(z^k, x)}{Q_\\phi(z^k| x)}}{P_\\text{IW}}\\Delta(z^k)\\right]\n",
    "\\end{align}\n",
    "$$\n",
    "\n",
    "And with a bit more tricky algebra we could also use the massively parallel importance sampling estimate of the log marginal likelihood:\n",
    "\n",
    "$$\n",
    "\\begin{align}\n",
    "\\Delta_\\text{post} = \\mathbb{E}_{Q_\\phi(z^k| x)}\\left[\\frac{\\frac{P_\\theta(z^k, x)}{\\prod_i Q(z_i^{k_i}| x, z_{\\text{qa}(i)})}}{P_\\text{MP}}\\Delta(z^k)\\right]\n",
    "\\end{align}\n",
    "$$\n",
    "\n",
    "To perform Massive Parallel Reweighted Wake-Sleep in Alan we can do the following:"
   ]
  },
  {
   "cell_type": "code",
   "execution_count": 27,
   "metadata": {},
   "outputs": [
    {
     "name": "stdout",
     "output_type": "stream",
     "text": [
      "K=10\n",
      "-13.737521921894437\n",
      "-14.36128585683559\n",
      "-14.50401148667989\n",
      "-16.00966385066256\n",
      "-17.01409246004574\n",
      "-16.122603701194627\n",
      "-17.207089166951572\n",
      "-17.21516695641802\n",
      "-18.54146940972209\n",
      "-17.72110144197151\n"
     ]
    }
   ],
   "source": [
    "opt = t.optim.Adam(cond_model.parameters(), lr=1e-3)\n",
    "\n",
    "K=10\n",
    "print(\"K={}\".format(K))\n",
    "for i in range(1000):\n",
    "    opt.zero_grad()\n",
    "    p_obj, q_obj = cond_model.sample_perm(K, True).rws()\n",
    "    (-q_obj).backward()\n",
    "    opt.step()\n",
    "\n",
    "    if 0 == i%100:\n",
    "        print(cond_model.sample_perm(K, True).elbo().item())"
   ]
  },
  {
   "cell_type": "markdown",
   "metadata": {},
   "source": [
    "# Plated Models\n",
    "\n",
    "Now that we have a basic idea of how Alan works, lets try making our models more complex. In particular, lets try to model some data that has a heirarchical structure. \n",
    "\n",
    "## MovieLens\n",
    "\n",
    "The [[MovieLens-100k dataset]](https://grouplens.org/datasets/movielens/100k/) consists of 100,000 movie ratings from 1000 users on 1700 movies. Each film, indexed $j$ has a vector of genre tags $x_j$. We observe user ratings $y_{mj}$ for each user $m$ and film $j$ and binarise them according to ${0,1,2,3} \\rightarrow 0$ and ${4,5} \\rightarrow 1$ to get $\\mathrm{Rating}_{mj}$.\n",
    "\n",
    "We can model this data using a hierarchical bayesian model as so:\n",
    "\n",
    "$$\n",
    "\\begin{align}\n",
    "\\nonumber\n",
    "\\boldsymbol{\\mu} &\\sim \\mathcal{N}(\\mathbf{0}_{18},1) \\\\\n",
    "\\nonumber\n",
    "\\psi &\\sim \\operatorname{Categorical}([0.1,0.5,0.4,0.05,0.05]) \\\\\n",
    "\\nonumber\n",
    "\\mathbf{z}_m &\\sim \\mathcal{N}(\\boldsymbol{\\mu},\\exp(\\psi) \\mathbf{I}), \\ m=1,\\dotsc,M \\\\\n",
    "\\mathrm{Rating}_{mj} &\\sim \\operatorname{Bernoulli}(\\sigma(\\mathbf{z}_m^\\intercal \\mathbf{x}_j)), \\ j=1,\\dotsc,\\mathrm{N}\n",
    "\\end{align}\n",
    "$$\n",
    "\n",
    "Lets write this in Alan. Note that Alan deals with plates passing a plate name to ``tr`` in the generative model ``P``, and by requiring the user to name parameters that are plate dependent in the approximate posterior ``Q``. A dictionary of plate sizes must be passed to the sampling functions as we will see later."
   ]
  },
  {
   "cell_type": "code",
   "execution_count": 38,
   "metadata": {},
   "outputs": [],
   "source": [
    "M=450\n",
    "N=20\n",
    "\n",
    "sizes = {'Users':M, 'Films':N}\n",
    "d_z = 18\n",
    "def P(tr, x):\n",
    "    '''\n",
    "    Heirarchical Model\n",
    "    '''\n",
    "    tr('mu_z', alan.Normal(tr.zeros((d_z,)), tr.ones((d_z,))))\n",
    "    tr('psi_z', alan.Categorical(t.tensor([0.1,0.5,0.4,0.05,0.05])))\n",
    "    tr('z', alan.Normal(tr['mu_z'], tr['psi_z'].exp()), plates='Users')\n",
    "    tr('obs', alan.Bernoulli(logits = tr['z'] @ x))\n",
    "\n",
    "\n",
    "class Q(alan.AlanModule):\n",
    "    def __init__(self):\n",
    "        super().__init__()\n",
    "        #mu_z\n",
    "        self.m_mu_z = nn.Parameter(t.zeros((d_z,)))\n",
    "        self.log_mu_z_sigma = nn.Parameter(t.zeros((d_z,)))\n",
    "        #psi_z\n",
    "        self.m_psi_z = nn.Parameter(t.randn((5,)))\n",
    "        #z\n",
    "        self.mu = nn.Parameter(t.zeros((M,d_z), names=('Users',None)))\n",
    "        self.log_z_sigma = nn.Parameter(t.zeros((M,d_z), names=('Users',None)))\n",
    "\n",
    "\n",
    "    def forward(self, tr, x):\n",
    "        tr('mu_z', alan.Normal(self.m_mu_z, self.log_mu_z_sigma.exp()))\n",
    "        tr('psi_z', alan.Categorical(logits=self.m_psi_z))\n",
    "\n",
    "        tr('z', alan.Normal(self.mu, self.log_z_sigma.exp()))"
   ]
  },
  {
   "cell_type": "markdown",
   "metadata": {},
   "source": [
    "Now we get our data, the data must be appropriately named according to the plate names in the model:"
   ]
  },
  {
   "cell_type": "code",
   "execution_count": 40,
   "metadata": {},
   "outputs": [],
   "source": [
    "covariates = {'x':t.load('movielens_data/weights_{0}_{1}.pt'.format(N, M))}\n",
    "test_covariates = {'x':t.load('movielens_data/test_weights_{0}_{1}.pt'.format(N, M))}\n",
    "all_covariates = {'x': t.cat([covariates['x'],test_covariates['x']],-2).rename('Users','Films',...)}\n",
    "covariates['x'] = covariates['x'].rename('Users','Films',...)\n",
    "test_covariates['x'] = test_covariates['x'].rename('Users','Films',...)\n",
    "\n",
    "\n",
    "data = {'obs':t.load('movielens_data/data_y_{0}_{1}.pt'.format(N, M))}\n",
    "test_data = {'obs':t.load('movielens_data/test_data_y_{0}_{1}.pt'.format(N, M))}\n",
    "all_data = {'obs': t.cat([data['obs'],test_data['obs']], -1).rename('Users','Films')}\n",
    "data['obs'] = data['obs'].rename('Users','Films')\n",
    "test_data['obs'] = test_data['obs'].rename('Users','Films')"
   ]
  },
  {
   "cell_type": "markdown",
   "metadata": {},
   "source": [
    "Now we can run inference:"
   ]
  },
  {
   "cell_type": "code",
   "execution_count": 41,
   "metadata": {},
   "outputs": [
    {
     "name": "stdout",
     "output_type": "stream",
     "text": [
      "Elbo: -6329.243725695521\n",
      "Elbo: -16869.199723156613\n",
      "Elbo: -9524.176957885558\n",
      "Elbo: -9471.521307200137\n",
      "Elbo: -16562.111421852165\n"
     ]
    }
   ],
   "source": [
    "elbos = []\n",
    "pred_lls = []\n",
    "\n",
    "K=10\n",
    "\n",
    "q = Q()\n",
    "cond_model = alan.Model(P, q).condition(data=data)\n",
    "opt = t.optim.Adam(cond_model.parameters(), lr=1e-3)\n",
    "for i in range(500):\n",
    "    opt.zero_grad()\n",
    "    sample = cond_model.sample_same(K, reparam=False, inputs=covariates)\n",
    "\n",
    "\n",
    "    elbo = sample.elbo()\n",
    "    elbos.append(elbo.item())\n",
    "    \n",
    "    p_obj, q_obj = sample.rws()\n",
    "    (-q_obj).backward()\n",
    "\n",
    "    opt.step()\n",
    "\n",
    "\n",
    "\n",
    "    sample = cond_model.sample_same(K, reparam=False, inputs=covariates)\n",
    "    pred_lls.append(cond_model.predictive_ll(sample, N = 10, inputs_all=all_covariates, data_all=all_data)['obs'])\n",
    "\n",
    "\n",
    "    if i % 100 == 0:\n",
    "        print(f'Elbo: {elbos[-1]}, Pred_ll: {pred_lls[-1]}')')        "
   ]
  },
  {
   "cell_type": "markdown",
   "metadata": {},
   "source": [
    "And lets look at the results:"
   ]
  },
  {
   "cell_type": "code",
   "execution_count": 44,
   "metadata": {},
   "outputs": [
    {
     "data": {
      "image/png": "[encoded data removed]",
      "text/plain": [
       "<Figure size 1000x500 with 2 Axes>"
      ]
     },
     "metadata": {},
     "output_type": "display_data"
    }
   ],
   "source": [
    "#plotting elbos and predictive lls in a single figure\n",
    "\n",
    "fig, ax = plt.subplots(1,2, figsize=(10,5))\n",
    "ax[0].plot(elbos, c='red')\n",
    "ax[0].set_xlabel('Iterations')\n",
    "ax[0].set_ylabel('ELBO')\n",
    "\n",
    "ax[1].plot(pred_lls)\n",
    "ax[1].set_xlabel('Iterations')\n",
    "ax[1].set_ylabel('Predictive LL')\n",
    "\n",
    "plt.tight_layout()\n",
    "plt.show()\n"
   ]
  },
  {
   "cell_type": "markdown",
   "metadata": {},
   "source": [
    "# MP Importance Weighted Moment Estimates\n",
    "\n",
    "We can also use Alan to compute importance weighted moment estimates of the posterior. This is useful for computing things like the posterior mean and variance and can be used directly in a Bayesian workflow or for the initialisation of MCMC or a variational posterior for instance. We can do this as follows:"
   ]
  },
  {
   "cell_type": "code",
   "execution_count": null,
   "metadata": {},
   "outputs": [],
   "source": []
  },
  {
   "cell_type": "markdown",
   "metadata": {},
   "source": [
    "# Tips for getting good performance"
   ]
  }
 ],
 "metadata": {
  "kernelspec": {
   "display_name": "alan",
   "language": "python",
   "name": "python3"
  },
  "language_info": {
   "codemirror_mode": {
    "name": "ipython",
    "version": 3
   },
   "file_extension": ".py",
   "mimetype": "text/x-python",
   "name": "python",
   "nbconvert_exporter": "python",
   "pygments_lexer": "ipython3",
   "version": "3.10.11"
  },
  "orig_nbformat": 4
 },
 "nbformat": 4,
 "nbformat_minor": 2
}
