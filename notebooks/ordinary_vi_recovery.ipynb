{
 "cells": [
  {
   "cell_type": "markdown",
   "metadata": {},
   "source": [
    "# Recovering a regression model with VI\n",
    "\n",
    "i.e. get a posterior over the weights"
   ]
  },
  {
   "cell_type": "code",
   "execution_count": 1,
   "metadata": {},
   "outputs": [],
   "source": [
    "import random\n",
    "import torch as t\n",
    "import torch.nn as nn\n",
    "\n",
    "import numpy as np\n",
    "\n",
    "import sys; sys.path.append(\"..\")\n",
    "import utils as u"
   ]
  },
  {
   "cell_type": "markdown",
   "metadata": {},
   "source": [
    "# Gen example data"
   ]
  },
  {
   "cell_type": "code",
   "execution_count": 2,
   "metadata": {},
   "outputs": [],
   "source": [
    "# Example \n",
    "PRIOR_MEAN = 3\n",
    "PRIOR_VAR = 3.0\n",
    "GROUND_L_SIGMA = 1.5\n",
    "\n",
    "N = 200\n",
    "w = 10\n",
    "interval = -100, 100\n",
    "X, Y = u.generate_linear_data(N, w, GROUND_L_SIGMA, interval)"
   ]
  },
  {
   "cell_type": "code",
   "execution_count": 3,
   "metadata": {},
   "outputs": [],
   "source": [
    "class VI(nn.Module):\n",
    "    def __init__(self, n=100):\n",
    "        super(VI, self).__init__()\n",
    "        \n",
    "        self.batch_size = n # latent samples per step\n",
    "        self.soft_plus = nn.Softplus()\n",
    "        \n",
    "        # adaptive variational params\n",
    "        self.q_mean = self.param_1D()\n",
    "        self.q_sigma = self.param_1D()\n",
    "        self.prior_mean = self.param_1D() \\\n",
    "                            .data.fill_(PRIOR_MEAN)\n",
    "        self.prior_sigma = self.param_1D() \\\n",
    "                            .data.fill_(PRIOR_VAR)\n",
    "        # FloatTensor(1) returns vast numbers sometimes?\n",
    "        self.likelihood_sigma = self.param_1D() \\\n",
    "                                .data.fill_(GROUND_L_SIGMA)\n",
    "        \n",
    "    \n",
    "    def param_1D(self) :\n",
    "        return nn.Parameter(t.randn(1,1), requires_grad=True)\n",
    "    \n",
    "    \n",
    "    def generate_noise(self):\n",
    "        return np.random.normal(size=(self.batch_size,1))\n",
    "    \n",
    "    \n",
    "    def get_mean(self) :\n",
    "        return self.q_mean.data.numpy()\n",
    "    \n",
    "    \n",
    "    def get_var(self) :\n",
    "        torch_var = self.soft_plus(self.q_sigma) \\\n",
    "                    .data**2\n",
    "        return torch_var.numpy()\n",
    "    \n",
    "    \n",
    "    def reparametrise(self, eps):\n",
    "        eps = nn.Parameter(t.FloatTensor(eps))\n",
    "        \n",
    "        return eps.mul(self.soft_plus(self.q_sigma)) \\\n",
    "                .add(self.q_mean)\n",
    "    \n",
    "    \n",
    "    def log_prob(self, y, x) :\n",
    "        return u.log_norm(y, x, self.likelihood_sigma)\n",
    "    \n",
    "    \n",
    "    def elbo(self, x, y):\n",
    "        eps = self.generate_noise()\n",
    "        z = self.reparametrise(eps)\n",
    "        \n",
    "        q_log = u.log_norm(z, self.q_mean, self.soft_plus(self.q_sigma))\n",
    "        q_likelihood = t.mean(q_log)\n",
    "        prior_log = u.log_norm(z, self.prior_mean, self.prior_sigma)\n",
    "        prior_estimate = t.mean(prior_log)\n",
    "        \n",
    "        xzt = x * z.transpose(0,1)\n",
    "        sum_log_prob = t.sum(self.log_prob(y, xzt), 0)\n",
    "        likelihood = t.mean(sum_log_prob)\n",
    "        \n",
    "        kl_div_mc = q_likelihood - prior_estimate\n",
    "        \n",
    "        return likelihood - kl_div_mc"
   ]
  },
  {
   "cell_type": "markdown",
   "metadata": {},
   "source": [
    "# Optimise it"
   ]
  },
  {
   "cell_type": "code",
   "execution_count": 4,
   "metadata": {},
   "outputs": [],
   "source": [
    "def run(X, Y, ep=5000, eta=0.1) :\n",
    "    q = VI()\n",
    "    optimiser = t.optim.Adam(q.parameters(), lr=eta)\n",
    "    x = nn.Parameter(t.Tensor(X), requires_grad=False) \n",
    "    y = nn.Parameter(t.Tensor(Y), requires_grad=False)\n",
    "\n",
    "    optimise(q, x, y, optimiser, ep)\n",
    "    \n",
    "    return q\n",
    "\n",
    "\n",
    "def optimise(q, x, y, optimiser, ep, verbose=False) :\n",
    "    for i in range(ep):\n",
    "        loss = - q.elbo(x, y)\n",
    "        optimiser.zero_grad()\n",
    "        loss.backward(retain_graph=True)\n",
    "        optimiser.step()\n",
    "\n",
    "        if verbose :\n",
    "            if i % 500 == 0:\n",
    "                print(q.get_mean(), q.get_var())\n",
    "\n",
    "\n",
    "def amortise_runs(m) :\n",
    "    means = []\n",
    "\n",
    "    for i in range(10) :\n",
    "        q = run(X, Y, ep=EPOCHS)\n",
    "        means.append(q.get_mean())\n",
    "        \n",
    "    return means\n",
    "\n",
    "\n"
   ]
  },
  {
   "cell_type": "markdown",
   "metadata": {},
   "source": [
    "# Eval"
   ]
  },
  {
   "cell_type": "code",
   "execution_count": 5,
   "metadata": {},
   "outputs": [
    {
     "data": {
      "text/plain": [
       "(-8.857345525115079e-05, 6.593544540482453e-06)"
      ]
     },
     "execution_count": 5,
     "metadata": {},
     "output_type": "execute_result"
    }
   ],
   "source": [
    "def get_q_error(q, X, Y) :\n",
    "    TRUE_POST_MEAN = u.analytical_posterior_mean(PRIOR_MEAN, PRIOR_VAR, X, Y)\n",
    "    TRUE_POST_VAR = u.analytical_posterior_var(PRIOR_VAR, X)\n",
    "    \n",
    "    mean_error = q.get_mean() - TRUE_POST_MEAN\n",
    "    var_error = q.get_var() - TRUE_POST_VAR\n",
    "    \n",
    "    return mean_error[0][0], var_error[0][0]\n",
    "            \n",
    "\n",
    "EPOCHS = 5000\n",
    "q = run(X, Y, ep=EPOCHS)\n",
    "get_q_error(q, X, Y)"
   ]
  },
  {
   "cell_type": "code",
   "execution_count": null,
   "metadata": {},
   "outputs": [],
   "source": []
  }
 ],
 "metadata": {
  "kernelspec": {
   "display_name": "Python 3",
   "language": "python",
   "name": "python3"
  },
  "language_info": {
   "codemirror_mode": {
    "name": "ipython",
    "version": 3
   },
   "file_extension": ".py",
   "mimetype": "text/x-python",
   "name": "python",
   "nbconvert_exporter": "python",
   "pygments_lexer": "ipython3",
   "version": "3.8.3"
  }
 },
 "nbformat": 4,
 "nbformat_minor": 2
}
