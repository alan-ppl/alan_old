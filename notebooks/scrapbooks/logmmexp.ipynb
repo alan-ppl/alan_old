{
 "cells": [
  {
   "cell_type": "code",
   "execution_count": 2,
   "metadata": {},
   "outputs": [],
   "source": [
    "import torch as t\n",
    "import sys; sys.path.append(\"..\")\n",
    "from tpp_trace import *\n",
    "import utils as u\n",
    "import tensor_ops as tpp\n"
   ]
  },
  {
   "cell_type": "code",
   "execution_count": 46,
   "metadata": {},
   "outputs": [],
   "source": [
    "# mm does the element sum \n",
    "def basic_mm(X, Y) :\n",
    "    lme = t.mm(X.exp(), Y.exp()).log()\n",
    "    return lme\n",
    "\n",
    "\n",
    "def lme(X, Y) :\n",
    "    lme = t.mm(X.exp(), Y.exp()).log()\n",
    "    correction = t.log(t.ones((), device=X.device)*X.size(1))\n",
    "    return lme - correction\n",
    "\n",
    "\n",
    "def logmmmeanexp(X, Y):\n",
    "    xmax = X.max(dim=1, keepdim=True)[0]\n",
    "    ymax = Y.max(dim=0, keepdim=True)[0]\n",
    "    X = X - xmax\n",
    "    Y = Y - ymax\n",
    "    \n",
    "    # NB: need t.matmul instead if broadcasting\n",
    "    log_exp_prod = t.mm(X.exp(), Y.exp()).log()\n",
    "    \n",
    "    return log_exp_prod \\\n",
    "            - t.log(t.ones((), device=xmax.device)*X.size(1)) \\\n",
    "            + xmax + ymax\n",
    "\n",
    "def max_k(T, k) :    \n",
    "    return T.max(dim=k, keepdim=True)[0]\n",
    "\n",
    "def denominator(T, i) :\n",
    "    return t.ones((), device=T.device) * T.size(i)\n",
    "\n",
    "def logmulmeanexp(X, Y, dim, centre=True):\n",
    "    \"\"\"\n",
    "        :param X: tensor of log probabilities\n",
    "        :param Y: tensor of log probabilities, possibly placeholder\n",
    "        :param dim: dimension to average over\n",
    "        \n",
    "        X and Y have their names aligned beforehand\n",
    "    \"\"\"\n",
    "    assert(X.names == Y.names)\n",
    "    \n",
    "    if centre:\n",
    "        xmax = max_k(X, dim)           \n",
    "        ymax = max_k(Y, dim)\n",
    "        print(xmax, ymax)\n",
    "        X = X - xmax\n",
    "        Y = Y - ymax\n",
    "    \n",
    "    # matmul happens in probability space, not log space\n",
    "    # hence exp first\n",
    "    log_exp_prod = (X.exp() * Y.exp()) \\\n",
    "                    .sum(dim, keepdim=True) \\\n",
    "                    .log()\n",
    "    log_size = t.log(denominator(X, dim))\n",
    "    means = log_exp_prod - log_size\n",
    "    \n",
    "    if centre : \n",
    "        means += xmax + ymax\n",
    "        \n",
    "    return means"
   ]
  },
  {
   "cell_type": "code",
   "execution_count": 37,
   "metadata": {},
   "outputs": [
    {
     "name": "stdout",
     "output_type": "stream",
     "text": [
      "tensor([[ 6., 10.],\n",
      "        [ 8., 14.]]) \n",
      " tensor([[4., 8.],\n",
      "        [3., 2.]]) \n",
      " tensor([ 7., 10.]) \n",
      " tensor([12.,  5.])\n"
     ]
    },
    {
     "data": {
      "text/plain": [
       "(6, 10, 8, 14)"
      ]
     },
     "execution_count": 37,
     "metadata": {},
     "output_type": "execute_result"
    }
   ],
   "source": [
    "X = t.Tensor([[2,2],\\\n",
    "              [3,2]])\n",
    "Y = t.Tensor([[2,4],\\\n",
    "              [1,1]])\n",
    "\n",
    "print(t.mm(X, Y), \"\\n\", \n",
    "      X*Y, \"\\n\",\n",
    "      (X*Y).sum(dim=0), \"\\n\", \n",
    "      (X*Y).sum(dim=1) )\n",
    "\n",
    "2*2 + 2*1, \\\n",
    "2*4 + 2*1, \\\n",
    "3*2 + 2*1, \\\n",
    "3*4 + 2*1"
   ]
  },
  {
   "cell_type": "code",
   "execution_count": 44,
   "metadata": {},
   "outputs": [],
   "source": [
    "X = t.Tensor([[.2,.1],\\\n",
    "              [.1,.3]])\n",
    "X = X.refine_names('_k__a', '_k__b')\n",
    "Y = t.Tensor([[.5,.3],\\\n",
    "              [.2,.1]])\n",
    "Y = Y.refine_names('_k__a', '_k__b')\n",
    "\n",
    "Xl = t.log(X)\n",
    "Yl = t.log(Y)\n",
    "\n",
    "\n",
    "X3 = t.Tensor([\n",
    "                [[1,1],[1,3]],\n",
    "                [[1,1],[1,3]]\n",
    "             ])\n",
    "X3 = X3.refine_names('_k__a', '_k__b', '_k__c')\n",
    "Y3 = t.Tensor([\n",
    "                [[2,1],[1,3]],\n",
    "                [[1,1],[1,5]]\n",
    "             ])\n",
    "Y3 = Y3.refine_names('_k__a', '_k__b', '_k__c')\n",
    "\n",
    "\n",
    "d = {\"a\":X, \"b\":Y}\n",
    "dim = \"_k__a\"\n",
    "\n"
   ]
  },
  {
   "cell_type": "code",
   "execution_count": 48,
   "metadata": {},
   "outputs": [
    {
     "name": "stdout",
     "output_type": "stream",
     "text": [
      "tensor([[[1., 1.],\n",
      "         [1., 3.]]], names=('_k__a', '_k__b', '_k__c')) tensor([[[2., 1.],\n",
      "         [1., 5.]]], names=('_k__a', '_k__b', '_k__c'))\n"
     ]
    },
    {
     "data": {
      "text/plain": [
       "tensor([[[2.6201, 2.0000],\n",
       "         [2.0000, 7.4338]]], names=('_k__a', '_k__b', '_k__c'))"
      ]
     },
     "execution_count": 48,
     "metadata": {},
     "output_type": "execute_result"
    }
   ],
   "source": [
    "logmulmeanexp(X3, Y3, dim)"
   ]
  },
  {
   "cell_type": "code",
   "execution_count": 26,
   "metadata": {},
   "outputs": [
    {
     "name": "stdout",
     "output_type": "stream",
     "text": [
      "tensor([[4.3133, 6.0486],\n",
      "        [5.1269, 7.0181]])\n",
      "tensor([[3.6201, 5.3554],\n",
      "        [4.4338, 6.3250]])\n",
      "tensor([[3.6201, 5.3554],\n",
      "        [4.4338, 6.3250]])\n"
     ]
    },
    {
     "data": {
      "text/plain": [
       "tensor([[ 6., 10.],\n",
       "        [ 8., 14.]])"
      ]
     },
     "execution_count": 26,
     "metadata": {},
     "output_type": "execute_result"
    }
   ],
   "source": [
    "print(basic_mm(X, Y)), \n",
    "print(lme(X, Y)), \n",
    "print(logmmmeanexp(X, Y))\n",
    "t.mm(X,Y)"
   ]
  },
  {
   "cell_type": "code",
   "execution_count": 30,
   "metadata": {},
   "outputs": [
    {
     "name": "stdout",
     "output_type": "stream",
     "text": [
      "tensor([[0.5199, 0.4000]], names=('_k__a', '_k__b')) \n",
      "\n",
      " tensor([[0.5199, 0.3612],\n",
      "        [0.5512, 0.4000]], names=('_k__a', '_k__b'))\n",
      "\n",
      "\n",
      " tensor([[0.5199, 0.4512]], names=('_k__a', '_k__b')) \n",
      "\n",
      " tensor([[0.5612, 0.4050],\n",
      "        [0.5512, 0.4000]], names=('_k__a', '_k__b'))\n"
     ]
    }
   ],
   "source": [
    "import imp\n",
    "imp.reload(u)\n",
    "\n",
    "\n",
    "\n",
    "X = t.Tensor([[.2,.1],\\\n",
    "              [.1,.3]])\n",
    "X = X.refine_names('_k__a', '_k__b')\n",
    "Y = t.Tensor([[.5,.3],\\\n",
    "              [.2,.1]])\n",
    "Y = Y.refine_names('_k__a', '_k__b')\n",
    "\n",
    "\n",
    "print(u.logmulmeanexp(X, Y, dim), \"\\n\\n\", \n",
    "      u.logmmmeanexp(X, Y))\n",
    "\n",
    "\n",
    "X = t.Tensor([[.2,.2],\\\n",
    "              [.1,.3]])\n",
    "X = X.refine_names('_k__a', '_k__b')\n",
    "Y = t.Tensor([[.5,.3],\\\n",
    "              [.2,.1]])\n",
    "Y = Y.refine_names('_k__a', '_k__b')\n",
    "\n",
    "\n",
    "print( \"\\n\\n\", u.logmulmeanexp(X, Y, dim), \"\\n\\n\", \n",
    "      u.logmmmeanexp(X, Y))"
   ]
  },
  {
   "cell_type": "code",
   "execution_count": 27,
   "metadata": {},
   "outputs": [
    {
     "name": "stdout",
     "output_type": "stream",
     "text": [
      "_k__b tensor([[0.7050],\n",
      "        [0.4612]], names=('_k__a', '_k__b'))\n"
     ]
    },
    {
     "name": "stderr",
     "output_type": "stream",
     "text": [
      "/home/gleech/anaconda3/lib/python3.6/site-packages/torch/tensor.py:605: UserWarning: Named tensors and all their associated APIs are an experimental feature and subject to change. Please do not use them for anything important until they are released as stable. (Triggered internally at  /pytorch/c10/core/TensorImpl.h:840.)\n",
      "  return super(Tensor, self).refine_names(names)\n"
     ]
    },
    {
     "data": {
      "text/plain": [
       "(tensor([[0.4612, 0.7050]], names=('_k__a', '_k__b')),\n",
       " tensor([[0.4612, 0.7443],\n",
       "         [0.4512, 0.7050]], names=('_k__a', '_k__b')))"
      ]
     },
     "execution_count": 27,
     "metadata": {},
     "output_type": "execute_result"
    }
   ],
   "source": [
    "X = t.Tensor([[.3,.1],\\\n",
    "              [.1,.3]])\n",
    "X = X.refine_names('_k__a', '_k__b')\n",
    "Y = t.Tensor([[.3,.7],\\\n",
    "              [.2,.3]])\n",
    "Y = Y.refine_names('_k__a', '_k__b')\n",
    "\n",
    "\n",
    "dim = \"_k__a\"\n",
    "\n",
    "\n",
    "# to preserve all dimensions\n",
    "def logmulmeanexp_exact(X, Y, dim) :\n",
    "    eXeY = (X.exp() * Y.exp())\n",
    "    nondims = set(X.names) - set([dim])\n",
    "\n",
    "    for other_dim in nondims :\n",
    "        print(other_dim, eXeY.mean(other_dim, keepdim=True).log())\n",
    "\n",
    "    return eXeY.mean(dim, keepdim=True) \\\n",
    "                        .log()\n",
    "\n",
    "logmulmeanexp_exact(X, Y, dim), logmmmeanexp(X, Y)"
   ]
  },
  {
   "cell_type": "code",
   "execution_count": 39,
   "metadata": {},
   "outputs": [
    {
     "data": {
      "text/plain": [
       "(tensor([[3.6201, 5.3554],\n",
       "         [4.4338, 6.3250]]), tensor([[3.6201, 5.3554],\n",
       "         [4.4338, 6.3250]]))"
      ]
     },
     "execution_count": 39,
     "metadata": {},
     "output_type": "execute_result"
    }
   ],
   "source": []
  }
 ],
 "metadata": {
  "kernelspec": {
   "display_name": "Python 3",
   "language": "python",
   "name": "python3"
  },
  "language_info": {
   "codemirror_mode": {
    "name": "ipython",
    "version": 3
   },
   "file_extension": ".py",
   "mimetype": "text/x-python",
   "name": "python",
   "nbconvert_exporter": "python",
   "pygments_lexer": "ipython3",
   "version": "3.6.9"
  }
 },
 "nbformat": 4,
 "nbformat_minor": 2
}
