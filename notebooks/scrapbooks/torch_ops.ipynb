{
 "cells": [
  {
   "cell_type": "code",
   "execution_count": 1,
   "metadata": {},
   "outputs": [],
   "source": [
    "import torch\n",
    "import numpy as np\n"
   ]
  },
  {
   "cell_type": "markdown",
   "metadata": {},
   "source": [
    "# Critical"
   ]
  },
  {
   "cell_type": "code",
   "execution_count": 13,
   "metadata": {},
   "outputs": [
    {
     "name": "stdout",
     "output_type": "stream",
     "text": [
      "tensor([[1.],\n",
      "        [1.],\n",
      "        [1.],\n",
      "        [1.]])\n",
      "tensor([ 1.8398, -0.6919, -0.3470])\n",
      "\n",
      "tensor([[2.8398, 0.3081, 0.6530],\n",
      "        [2.8398, 0.3081, 0.6530],\n",
      "        [2.8398, 0.3081, 0.6530],\n",
      "        [2.8398, 0.3081, 0.6530]])\n",
      "torch.Size([4, 3])\n"
     ]
    },
    {
     "data": {
      "text/plain": [
       "tensor(True)"
      ]
     },
     "execution_count": 13,
     "metadata": {},
     "output_type": "execute_result"
    }
   ],
   "source": [
    "# Broadcasting\n",
    "\n",
    "tensor_2d = torch.ones(4,1)\n",
    "print(tensor_2d)\n",
    "tensor_1d = torch.randn(3)\n",
    "print(tensor_1d)\n",
    "print()\n",
    "tensor_broadcast_expanded = torch.add(tensor_2d, tensor_1d)\n",
    "print(tensor_broadcast_expanded)\n",
    "print(tensor_broadcast_expanded.shape)\n",
    "\n",
    "# Note also\n",
    "reverse_broadcast = torch.add(tensor_1d, tensor_2d)\n",
    "torch.all(tensor_broadcast_expanded.eq(reverse_broadcast)) "
   ]
  },
  {
   "cell_type": "code",
   "execution_count": 29,
   "metadata": {},
   "outputs": [
    {
     "name": "stdout",
     "output_type": "stream",
     "text": [
      "tensor([[[[2., 2.],\n",
      "          [2., 2.]],\n",
      "\n",
      "         [[2., 2.],\n",
      "          [2., 2.]]],\n",
      "\n",
      "\n",
      "        [[[2., 2.],\n",
      "          [2., 2.]],\n",
      "\n",
      "         [[2., 2.],\n",
      "          [2., 2.]]],\n",
      "\n",
      "\n",
      "        [[[2., 2.],\n",
      "          [2., 2.]],\n",
      "\n",
      "         [[2., 2.],\n",
      "          [2., 2.]]]])\n"
     ]
    },
    {
     "data": {
      "text/plain": [
       "24"
      ]
     },
     "execution_count": 29,
     "metadata": {},
     "output_type": "execute_result"
    }
   ],
   "source": [
    "# STARTS FROM THE RIGHT\n",
    "# can line up trailing dimensions\n",
    "x=torch.ones(3,2,2,2)\n",
    "y=torch.ones(  1,1,2)\n",
    "# becomes y=torch.ones(3,2,2,2)\n",
    "xy = torch.add(x,y)\n",
    "print(xy)\n",
    "\n",
    "# x and y are broadcastable.\n",
    "# 1st trailing dimension: both have size 1\n",
    "# 2nd trailing dimension: y has size 1\n",
    "# 3rd trailing dimension: x size == y size\n",
    "# 4th trailing dimension: y dimension doesn't exist\n",
    "\n",
    "# Note we have 3 pairs of 2x2s\n",
    "xy.numel()"
   ]
  },
  {
   "cell_type": "code",
   "execution_count": 37,
   "metadata": {},
   "outputs": [
    {
     "name": "stdout",
     "output_type": "stream",
     "text": [
      "tensor([[[[1.],\n",
      "          [1.]]],\n",
      "\n",
      "\n",
      "        [[[1.],\n",
      "          [1.]]]])\n",
      "\n",
      "tensor([[1., 1.],\n",
      "        [1., 1.]])\n",
      "\n",
      "tensor([[[[[1.],\n",
      "           [1.]]],\n",
      "\n",
      "\n",
      "         [[[1.],\n",
      "           [1.]]]]])\n"
     ]
    }
   ],
   "source": [
    "# squeeze a tensor: remove the 1s from the shape\n",
    "d = torch.ones(2,1,2,1)\n",
    "print(d); print()\n",
    "print(d.squeeze()); print()\n",
    "print(d.unsqueeze(dim=0))\n",
    "#print(d.unsqueeze(dim=1))"
   ]
  },
  {
   "cell_type": "code",
   "execution_count": 39,
   "metadata": {},
   "outputs": [
    {
     "data": {
      "text/plain": [
       "tensor([0.7212, 0.0262, 0.8675, 0.6944, 0.4912, 0.0213, 0.3186, 0.0056, 0.8242,\n",
       "        0.9966, 0.6115, 0.6244, 0.4733, 0.4002, 0.3353, 0.9631, 0.6802, 0.5433,\n",
       "        0.2166, 0.6288, 0.9139, 0.7898, 0.0600, 0.9358, 0.9083, 0.1427, 0.2134,\n",
       "        0.1975, 0.0659, 0.9850, 0.8953, 0.4289, 0.9908, 0.7020, 0.1698, 0.8634])"
      ]
     },
     "execution_count": 39,
     "metadata": {},
     "output_type": "execute_result"
    }
   ],
   "source": [
    "# flatten a tensor: concat one dimension\n",
    "c = torch.rand([3,3,4])\n",
    "c.flatten()"
   ]
  },
  {
   "cell_type": "code",
   "execution_count": null,
   "metadata": {},
   "outputs": [],
   "source": []
  },
  {
   "cell_type": "code",
   "execution_count": null,
   "metadata": {},
   "outputs": [],
   "source": []
  },
  {
   "cell_type": "code",
   "execution_count": 2,
   "metadata": {},
   "outputs": [
    {
     "data": {
      "text/plain": [
       "tensor(7.3426, grad_fn=<MeanBackward0>)"
      ]
     },
     "execution_count": 2,
     "metadata": {},
     "output_type": "execute_result"
    }
   ],
   "source": [
    "np.random.seed(42)\n",
    "x = np.random.rand(100, 1)\n",
    "y = 1 + 2 * x + .1 * np.random.randn(100, 1)\n",
    "\n",
    "# Shuffles the indices\n",
    "idx = np.arange(100)\n",
    "np.random.shuffle(idx)\n",
    "\n",
    "# Uses first 80 random indices for train\n",
    "train_idx = idx[:80]\n",
    "# Uses the remaining indices for validation\n",
    "val_idx = idx[80:]\n",
    "\n",
    "# Generates train and validation sets\n",
    "x_train, y_train = x[train_idx], y[train_idx]\n",
    "x_val, y_val = x[val_idx], y[val_idx]\n",
    "\n",
    "# TORCH IT\n",
    "\n",
    "x_train_tensor = torch.from_numpy(x_train).float()\n",
    "y_train_tensor = torch.from_numpy(y_train).float()\n",
    "\n",
    "a = torch.randn(1, requires_grad=True, dtype=torch.float)\n",
    "b = torch.randn(1, requires_grad=True, dtype=torch.float)\n",
    "\n",
    "yhat = a + b * x_train_tensor\n",
    "error = y_train_tensor - yhat\n",
    "loss = (error ** 2).mean()\n",
    "loss"
   ]
  }
 ],
 "metadata": {
  "kernelspec": {
   "display_name": "Python 3",
   "language": "python",
   "name": "python3"
  },
  "language_info": {
   "codemirror_mode": {
    "name": "ipython",
    "version": 3
   },
   "file_extension": ".py",
   "mimetype": "text/x-python",
   "name": "python",
   "nbconvert_exporter": "python",
   "pygments_lexer": "ipython3",
   "version": "3.6.9"
  }
 },
 "nbformat": 4,
 "nbformat_minor": 2
}
