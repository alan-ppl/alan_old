{
 "cells": [
  {
   "cell_type": "markdown",
   "metadata": {},
   "source": [
    "https://www.ritchievink.com/blog/2019/09/16/variational-inference-from-scratch/"
   ]
  },
  {
   "cell_type": "code",
   "execution_count": 1,
   "metadata": {},
   "outputs": [],
   "source": [
    "import re\n",
    "import string\n",
    "import random\n",
    "import torch as t\n",
    "import torch.nn as nn\n",
    "from torch.distributions import Normal\n",
    "from functools import reduce\n",
    "import numpy as np"
   ]
  },
  {
   "cell_type": "code",
   "execution_count": 2,
   "metadata": {},
   "outputs": [],
   "source": [
    "def P(trace):\n",
    "    a = WrappedDist(Normal, t.ones(2), 3)\n",
    "    b = WrappedDist(Normal, t.ones(2), 3)\n",
    "    #return (a+b)\n",
    "\n",
    "\"\"\"\n",
    "class Q(nn.Module):\n",
    "    def __init__(self) :\n",
    "        self.Kw\n",
    "\n",
    "    # TMC version\n",
    "    # z = q.sample\n",
    "    # elbo = p.log_prob(x, z) - q.log_prob(z)\n",
    "    # average with logmeanexp(elbo)\n",
    "    def forward(self, x):\n",
    "        w  = q.Qw().sample(sample_shape=t.Size([self.Kw, 1, 1]))\n",
    "        z  = q.Qz().sample(sample_shape=t.Size([self.Kz, x.size(0)]))\n",
    "\n",
    "        fw = p.Pw().log_prob(w) - q.Qw().log_prob(w)\n",
    "        fz = p.PzGw(w).log_prob(z) - q.Qz().log_prob(z)\n",
    "        fx = p.PxGz(z).log_prob(x)\n",
    "\n",
    "        f_int_z = u.logmeanexp(fz + fx, -2)\n",
    "        f_int_z = f_int_z.sum(-1) + fw.view(-1)\n",
    "        f_int_w = u.logmeanexp(f_int_z)\n",
    "\n",
    "        return f_int_w\n",
    "\"\"\"\n",
    "\n",
    "\n",
    "class Q(nn.Module):\n",
    "    def __init__(self):\n",
    "        super().__init__()\n",
    "\n",
    "        self.q_mu = nn.Sequential(\n",
    "            nn.Linear(1, 20),\n",
    "            nn.ReLU(),\n",
    "            nn.Linear(20, 10),\n",
    "            nn.ReLU(),\n",
    "            nn.Linear(10, 1)\n",
    "        )\n",
    "        self.q_log_var = nn.Sequential(\n",
    "            nn.Linear(1, 20),\n",
    "            nn.ReLU(),\n",
    "            nn.Linear(20, 10),\n",
    "            nn.ReLU(),\n",
    "            nn.Linear(10, 1)\n",
    "        )\n",
    "\n",
    "    def reparameterize(self, mu, log_var):\n",
    "        # std can't be negative, hence log var\n",
    "        sigma = t.exp(0.5 * log_var) + 1e-5\n",
    "        eps = t.randn_like(sigma)\n",
    "        \n",
    "        return mu + sigma * eps\n",
    "\n",
    "    # samples from Q\n",
    "    def forward(self, x):\n",
    "        mu = self.q_mu(x)\n",
    "        log_var = self.q_log_var(x)\n",
    "        noised = self.reparameterize(mu, log_var)\n",
    "        \n",
    "        return noised, mu, log_var\n",
    "\n",
    "\n",
    "\n",
    "def ll_gaussian(y, mu, log_var):\n",
    "    sigma = t.exp(0.5 * log_var)\n",
    "    return -0.5 * t.log(2 * np.pi * sigma**2) - (1 / (2 * sigma**2))* (y-mu)**2\n",
    "\n",
    "\n",
    "def elbo(y_pred, y, mu, log_var):\n",
    "    # likelihood of y given q mu and sigma\n",
    "    likelihood = ll_gaussian(y, mu, log_var)\n",
    "    \n",
    "    # prior probability of y_pred\n",
    "    log_prior = ll_gaussian(y_pred, 0, t.log(torch.tensor(1.)))\n",
    "    \n",
    "    # variational probability of y_pred\n",
    "    log_p_q = ll_gaussian(y_pred, mu, log_var)\n",
    "    \n",
    "    return (likelihood + log_prior - log_p_q).mean()\n",
    "\n",
    "\n",
    "def det_loss(y_pred, y, mu, log_var):\n",
    "    return -elbo(y_pred, y, mu, log_var)\n",
    "\n",
    "\n",
    "# analytic soln for Gaussian\n",
    "def det_loss(y, y_pred, mu, log_var):    \n",
    "    reconstruction_error = (0.5 * (y - y_pred)**2) \\\n",
    "                            .sum()\n",
    "    distance = 1 + log_var - mu**2 - log_var.exp()\n",
    "    kl_divergence = (-0.5 * t.sum(distance))\n",
    "\n",
    "    return (reconstruction_error + kl_divergence) \\\n",
    "            .sum()"
   ]
  },
  {
   "cell_type": "code",
   "execution_count": 3,
   "metadata": {},
   "outputs": [],
   "source": [
    "# from\n",
    "# https://medium.com/tensorflow/regression-with-probabilistic-layers-in-tensorflow-probability-e46ff5d37baf\n",
    "w0 = 0.125\n",
    "b0 = 5.\n",
    "x_range = [-20, 60]\n",
    "\n",
    "def load_dataset(n=150, n_tst=150):\n",
    "    np.random.seed(43)\n",
    "\n",
    "    def s(x):\n",
    "        g = (x - x_range[0]) / (x_range[1] - x_range[0])\n",
    "        return 3 * (0.25 + g**2.)\n",
    "\n",
    "    x = (x_range[1] - x_range[0]) * np.random.rand(n) + x_range[0]\n",
    "    eps = np.random.randn(n) * s(x)\n",
    "    y = (w0 * x * (1. + np.sin(x)) + b0) + eps\n",
    "    y = (y - y.mean()) / y.std()\n",
    "    idx = np.argsort(x)\n",
    "    x = x[idx]\n",
    "    y = y[idx]\n",
    "    return y[:, None], x[:, None]\n",
    "\n",
    "y, x = load_dataset()\n",
    "X = t.tensor(x, dtype=t.float)\n",
    "Y = t.tensor(y, dtype=t.float)"
   ]
  },
  {
   "cell_type": "code",
   "execution_count": 4,
   "metadata": {},
   "outputs": [],
   "source": [
    "epochs = 1500\n",
    "\n",
    "m = Q()\n",
    "optim = t.optim.Adam(m.parameters(), lr=0.005)\n",
    "\n",
    "for epoch in range(epochs):\n",
    "    optim.zero_grad()\n",
    "    y_pred, mu, log_var = m(X)\n",
    "    loss = det_loss(y_pred, Y, mu, log_var)\n",
    "    loss.backward()\n",
    "    optim.step()"
   ]
  },
  {
   "cell_type": "code",
   "execution_count": 5,
   "metadata": {},
   "outputs": [
    {
     "data": {
      "text/plain": [
       "<matplotlib.collections.PolyCollection at 0x7f72969e2dd8>"
      ]
     },
     "execution_count": 5,
     "metadata": {},
     "output_type": "execute_result"
    },
    {
     "data": {
      "image/png": "[encoded data removed]",
      "text/plain": [
       "<Figure size 1152x432 with 1 Axes>"
      ]
     },
     "metadata": {
      "needs_background": "light"
     },
     "output_type": "display_data"
    }
   ],
   "source": [
    "with t.no_grad():\n",
    "    y_pred = t.cat([m(X)[0] for _ in range(1000)], dim=1)\n",
    "    \n",
    "# Get some quantiles\n",
    "q1, mu, q2 = np.quantile(y_pred, [0.05, 0.5, 0.95], axis=1)\n",
    "\n",
    "\n",
    "import matplotlib.pyplot as plt\n",
    "%matplotlib inline\n",
    "\n",
    "plt.figure(figsize=(16, 6))\n",
    "plt.scatter(X, Y)\n",
    "plt.plot(X, mu)\n",
    "plt.fill_between(X.flatten(), q1, q2, alpha=0.2)"
   ]
  },
  {
   "cell_type": "code",
   "execution_count": null,
   "metadata": {},
   "outputs": [],
   "source": []
  },
  {
   "cell_type": "code",
   "execution_count": null,
   "metadata": {},
   "outputs": [],
   "source": []
  }
 ],
 "metadata": {
  "kernelspec": {
   "display_name": "Python 3",
   "language": "python",
   "name": "python3"
  },
  "language_info": {
   "codemirror_mode": {
    "name": "ipython",
    "version": 3
   },
   "file_extension": ".py",
   "mimetype": "text/x-python",
   "name": "python",
   "nbconvert_exporter": "python",
   "pygments_lexer": "ipython3",
   "version": "3.8.3"
  }
 },
 "nbformat": 4,
 "nbformat_minor": 2
}
