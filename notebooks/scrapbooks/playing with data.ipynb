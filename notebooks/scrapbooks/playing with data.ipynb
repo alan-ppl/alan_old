{
 "cells": [
  {
   "cell_type": "code",
   "execution_count": 1,
   "metadata": {},
   "outputs": [],
   "source": [
    "import torch.nn as nn\n",
    "from torch.distributions import Normal\n",
    "import numpy as np\n",
    "\n",
    "import sys; sys.path.append(\"..\")\n",
    "from tpp_trace import *\n",
    "import utils as u\n",
    "import tensor_ops as tpp"
   ]
  },
  {
   "cell_type": "code",
   "execution_count": 4,
   "metadata": {},
   "outputs": [
    {
     "data": {
      "text/plain": [
       "{'sample': {'__b': tensor([[[ 6.4318]],\n",
       "  \n",
       "          [[12.1282]]], names=('_K', 'pos_A', 'pos_B')),\n",
       "  '__c': tensor([[[8.5262]],\n",
       "  \n",
       "          [[9.7909]]], names=('_K', 'pos_A', 'pos_B')),\n",
       "  '__d': tensor([[[ 5.2176]],\n",
       "  \n",
       "          [[11.2655]]], names=('_K', 'pos_A', 'pos_B'))},\n",
       " 'log_prob': {'__b': tensor([[[-2.7249]],\n",
       "  \n",
       "          [[-2.2692]]], names=('_K', 'pos_A', 'pos_B')),\n",
       "  '__c': tensor([[[-2.2612]],\n",
       "  \n",
       "          [[-2.3211]]], names=('_K', 'pos_A', 'pos_B')),\n",
       "  '__d': tensor([[[-2.6257]],\n",
       "  \n",
       "          [[-2.1384]]], names=('_K', 'pos_A', 'pos_B'))}}"
      ]
     },
     "execution_count": 4,
     "metadata": {},
     "output_type": "execute_result"
    }
   ],
   "source": [
    "draws = 2\n",
    "nProtected = 2\n",
    "# a -> b -> c -> d observed\n",
    "P = chain_dist\n",
    "\n",
    "data = {\"__a\": 10}\n",
    "tr1 = sampler(draws, nProtected, data=data)\n",
    "val = P(tr1)\n",
    "tr1.trace.out_dicts\n",
    "#Q = pytorch.module\n",
    "#    - factorised Gaussians with learned means and covs\n",
    "#    - `q.forward()` will look like chain_dist\n",
    "    \n"
   ]
  }
 ],
 "metadata": {
  "kernelspec": {
   "display_name": "Python 3",
   "language": "python",
   "name": "python3"
  },
  "language_info": {
   "codemirror_mode": {
    "name": "ipython",
    "version": 3
   },
   "file_extension": ".py",
   "mimetype": "text/x-python",
   "name": "python",
   "nbconvert_exporter": "python",
   "pygments_lexer": "ipython3",
   "version": "3.6.9"
  }
 },
 "nbformat": 4,
 "nbformat_minor": 2
}
