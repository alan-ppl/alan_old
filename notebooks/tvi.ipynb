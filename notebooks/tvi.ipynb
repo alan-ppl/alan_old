{
 "cells": [
  {
   "cell_type": "code",
   "execution_count": null,
   "metadata": {},
   "outputs": [],
   "source": [
    "import torch.nn as nn\n",
    "from torch.distributions import Normal\n",
    "import numpy as np\n",
    "\n",
    "import sys; sys.path.append(\"..\")\n",
    "from tpp_trace import *\n",
    "import utils as u\n",
    "import tensor_ops as tpp"
   ]
  },
  {
   "cell_type": "markdown",
   "metadata": {},
   "source": [
    "## First with no plates"
   ]
  },
  {
   "cell_type": "code",
   "execution_count": null,
   "metadata": {},
   "outputs": [],
   "source": [
    "#- a factorised approx posterior\n",
    "#- generate e.g. 3 variables\n",
    "#- samples along the chain\n",
    "\n",
    "draws = 2\n",
    "nProtected = 2\n",
    "data = {\"data\": {\"__c\": 10}}\n",
    "\n",
    "# a -> b -> c observed\n",
    "def chain_dist(trace):\n",
    "    a = trace[\"a\"](WrappedDist(Normal, t.ones(3), 3))\n",
    "    b = trace[\"b\"](WrappedDist(Normal, a, 3))\n",
    "    c = trace[\"c\"](WrappedDist(Normal, b, 3))\n",
    "    \n",
    "    return c\n",
    "\n",
    "\"\"\"\n",
    "def chain_dist(trace):\n",
    "    a = trace[\"a\"](WrappedDist(Normal, t.ones(3), 3))\n",
    "    b = trace[\"b\"](WrappedDist(Normal, a, 3))\n",
    "    c = trace[\"c\"](WrappedDist(Normal, b, 3))\n",
    "    (c,) = trace.delete_names((\"a\", \"b\"), (c,))\n",
    "    d = trace[\"d\"](WrappedDist(Normal, c, 3))\n",
    "    \n",
    "    return d\n",
    "\"\"\"\n",
    "P = chain_dist\n",
    "\n",
    "\n",
    "# call sampler on Q. \n",
    "# gives you the samples and a log Q tensor `log_prob`\n",
    "tr1 = sampler(draws, nProtected, data=data)\n",
    "\n",
    "val = P(tr1)\n",
    "log_q = tr1.trace.out_dicts[\"log_prob\"]\n",
    "\n",
    "# compute the log_probs\n",
    "\n",
    "# pass these to evaluator, which does a lookup for all the latents \n",
    "# gives you log P for each latent\n",
    "tr2 = evaluator(tr1, nProtected, data=data)\n",
    "val = P(tr2)\n",
    "\n",
    "#tr2.trace.out_dicts[\"log_prob\"]\n",
    "#log_p = \n",
    "\n",
    "#Q = pytorch.module\n",
    "#    - factorised Gaussians with learned means and covs\n",
    "#    - `q.forward()` will look like chain_dist\n",
    "    \n",
    "\n",
    "#- optimise it\n"
   ]
  },
  {
   "cell_type": "code",
   "execution_count": null,
   "metadata": {},
   "outputs": [],
   "source": []
  },
  {
   "cell_type": "code",
   "execution_count": null,
   "metadata": {},
   "outputs": [],
   "source": []
  },
  {
   "cell_type": "code",
   "execution_count": null,
   "metadata": {},
   "outputs": [],
   "source": []
  },
  {
   "cell_type": "code",
   "execution_count": null,
   "metadata": {},
   "outputs": [],
   "source": []
  },
  {
   "cell_type": "code",
   "execution_count": null,
   "metadata": {},
   "outputs": [],
   "source": []
  },
  {
   "cell_type": "code",
   "execution_count": null,
   "metadata": {},
   "outputs": [],
   "source": []
  },
  {
   "cell_type": "code",
   "execution_count": null,
   "metadata": {},
   "outputs": [],
   "source": []
  },
  {
   "cell_type": "code",
   "execution_count": null,
   "metadata": {},
   "outputs": [],
   "source": []
  },
  {
   "cell_type": "code",
   "execution_count": null,
   "metadata": {},
   "outputs": [],
   "source": []
  },
  {
   "cell_type": "code",
   "execution_count": null,
   "metadata": {},
   "outputs": [],
   "source": []
  }
 ],
 "metadata": {
  "kernelspec": {
   "display_name": "Python 3",
   "language": "python",
   "name": "python3"
  },
  "language_info": {
   "codemirror_mode": {
    "name": "ipython",
    "version": 3
   },
   "file_extension": ".py",
   "mimetype": "text/x-python",
   "name": "python",
   "nbconvert_exporter": "python",
   "pygments_lexer": "ipython3",
   "version": "3.8.3"
  }
 },
 "nbformat": 4,
 "nbformat_minor": 2
}
