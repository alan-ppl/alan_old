{
 "cells": [
  {
   "cell_type": "markdown",
   "metadata": {},
   "source": [
    "three types of dimension:\n",
    "* plate dims\n",
    "* sample dimensions (usually indexed K)\n",
    "* user dims; underlying dimensions (which the user gets to interact with). "
   ]
  },
  {
   "cell_type": "code",
   "execution_count": 340,
   "metadata": {},
   "outputs": [
    {
     "data": {
      "text/html": [
       "<style>.container { width:100% !important; }</style>"
      ],
      "text/plain": [
       "<IPython.core.display.HTML object>"
      ]
     },
     "metadata": {},
     "output_type": "display_data"
    }
   ],
   "source": [
    "import torch.nn as nn\n",
    "from torch.distributions import Normal\n",
    "import numpy as np\n",
    "\n",
    "import sys; sys.path.append(\"..\")\n",
    "from tpp_trace import *\n",
    "import utils as u\n",
    "import tensor_ops as tpp\n",
    "\n",
    "import imp\n",
    "imp.reload(tpp)\n",
    "\n",
    "from IPython.core.display import display, HTML\n",
    "display(HTML(\"<style>.container { width:100% !important; }</style>\"))"
   ]
  },
  {
   "cell_type": "markdown",
   "metadata": {},
   "source": [
    "## Run"
   ]
  },
  {
   "cell_type": "code",
   "execution_count": 341,
   "metadata": {
    "scrolled": true
   },
   "outputs": [
    {
     "data": {
      "text/plain": [
       "tensor([[[ 2.0307,  2.2286,  1.5456]],\n",
       "\n",
       "        [[-1.1578, -5.4063,  3.3367]],\n",
       "\n",
       "        [[-0.7263,  4.6261, -0.4760]]], names=('_k__a', 'pos_A', 'pos_B'))"
      ]
     },
     "execution_count": 341,
     "metadata": {},
     "output_type": "execute_result"
    }
   ],
   "source": [
    "kappa = 3\n",
    "n = 2\n",
    "tr = sample_and_eval(chain_dist, draws=kappa, nProtected=n, data={\"a\": 2})\n",
    "\n",
    "#tr = sample_and_eval(plate_chain_dist, draws=kappa, nProtected=2)#, data={\"a\": 2})\n",
    "#tr.trace.out_dicts\n",
    "\n",
    "tr.trace.out_dicts['sample']['__a']"
   ]
  },
  {
   "cell_type": "markdown",
   "metadata": {},
   "source": [
    "## index-aware summing\n",
    "\n",
    "We have: one factor corresponding to each variable (latent or observed)\n",
    "\n",
    "e.g. the trace output for the 4 gaussians in our chain example\n",
    "\n",
    "every time we sample, we add a new dimension. Need to delete these after eval\n",
    "\n",
    "### e.g."
   ]
  },
  {
   "cell_type": "code",
   "execution_count": 69,
   "metadata": {},
   "outputs": [],
   "source": [
    "#import imp\n",
    "#imp.reload(tpp)\n",
    "#imp.reload(u)\n",
    "\n",
    "kappa = 2\n",
    "n = 2\n",
    "data = {} # {\"a\": [4] * 100}\n",
    "tr = sample_and_eval(chain_dist, draws=kappa, nProtected=n, data=data)\n",
    "tensors = tr.trace.out_dicts['log_prob']\n",
    "\n",
    "X = t.Tensor([[.3,.1],\\\n",
    "              [.1,.3]])\n",
    "X = X.refine_names('_k__a', '_k__b')\n",
    "Y = t.Tensor([[.3,.7],\\\n",
    "              [.2,.3]])\n",
    "Y = Y.refine_names('_k__a', '_k__b')\n",
    "\n",
    "\n"
   ]
  },
  {
   "cell_type": "markdown",
   "metadata": {},
   "source": [
    "## 3 equivalent reductions\n",
    "\n",
    "for this easy 2D case"
   ]
  },
  {
   "cell_type": "code",
   "execution_count": 81,
   "metadata": {},
   "outputs": [
    {
     "data": {
      "text/plain": [
       "(tensor(-2.6956), tensor(-2.6956), tensor(-2.6956))"
      ]
     },
     "execution_count": 81,
     "metadata": {},
     "output_type": "execute_result"
    }
   ],
   "source": [
    "# for every dim:\n",
    "# log -> complicated index stuff -> sum all tensors -> logsumexp out dim\n",
    "tensors = {'__a' : X.log(), \\\n",
    "           '__b' : Y.log() } \n",
    "TPP = tpp.combine_tensors(tensors)\n",
    "TPP = list(TPP.values())[0]\n",
    "\n",
    "\n",
    "# mean then sum on linear scale, then log result\n",
    "logsummul = (X * Y / 4).sum().log()\n",
    "\n",
    "\n",
    "# an addition operation in linear-scale becomes the LSE in log-scale. \n",
    "# mean -> log -> lse dims\n",
    "dim = \"_k__a\"\n",
    "logmean = (X * Y / 4).log()\n",
    "lselogmul = logmean.logsumexp(dim) \\\n",
    "        .logsumexp(\"_k__b\")\n",
    "\n",
    "\n",
    "TPP, logsummul, lselogmul"
   ]
  },
  {
   "cell_type": "code",
   "execution_count": 99,
   "metadata": {},
   "outputs": [
    {
     "data": {
      "text/plain": [
       "(2.4849066497880004, tensor(2.4849), tensor(2.4849))"
      ]
     },
     "execution_count": 99,
     "metadata": {},
     "output_type": "execute_result"
    }
   ],
   "source": [
    "T = t.Tensor([4,8])\n",
    "np.log(4 + 8), T.log().logsumexp(0), T.sum(0).log()\n"
   ]
  },
  {
   "cell_type": "markdown",
   "metadata": {},
   "source": [
    "# Playing"
   ]
  },
  {
   "cell_type": "code",
   "execution_count": 119,
   "metadata": {},
   "outputs": [
    {
     "data": {
      "text/plain": [
       "(tensor([[[-1.9652,  2.1366, -2.2147],\n",
       "          [ 0.2629,  0.7617, -0.1724]]], names=('N', 'C', '_K')),\n",
       " tensor([[[-1.9652],\n",
       "          [ 2.1366],\n",
       "          [-2.2147]],\n",
       " \n",
       "         [[ 0.2629],\n",
       "          [ 0.7617],\n",
       "          [-0.1724]]], names=('C', '_K', 'N')))"
      ]
     },
     "execution_count": 119,
     "metadata": {},
     "output_type": "execute_result"
    }
   ],
   "source": [
    "# cf. docs\n",
    "T = t.randn(1, 2, 3 , names=('N', 'C', '_K'))\n",
    "T.names\n",
    "#('N', 'C', 'H', 'W')\n",
    "\n",
    "T3 = T.align_to('C', '_K', ...)\n",
    "\n",
    "T2 = T.rename(_K='aaaaa')\n",
    "T2.names #('N', 'C', 'height', 'width)\n",
    "\n",
    "T, T.align_as(T3)\n"
   ]
  },
  {
   "cell_type": "code",
   "execution_count": 7,
   "metadata": {},
   "outputs": [
    {
     "name": "stdout",
     "output_type": "stream",
     "text": [
      "tensor([0.7480, 0.3512]) \n",
      " tensor([0.7480, 0.3512])\n"
     ]
    }
   ],
   "source": [
    "def named_example_2D() :\n",
    "    X = t.Tensor([[.2,.1],\\\n",
    "                  [.1,.3]])\n",
    "    X = X.refine_names('_k__a', '_k__b')\n",
    "    Y = t.Tensor([[.9,.2],\\\n",
    "                  [.1,.1]])\n",
    "    Y = Y.refine_names('_k__a', '_k__b')\n",
    "    \n",
    "    return X, Y, '_k__a'\n",
    "\n",
    "\n",
    "def test_logmulmeanexp() :\n",
    "    X, Y, dim = named_example_2D()\n",
    "    log_mean_prod_exp = u.logmulmeanexp(X, Y, dim)\n",
    "    \n",
    "    reference = u.logmmmeanexp(X, Y) \\\n",
    "                .rename(None) \\\n",
    "                .diag()\n",
    "    stripped = log_mean_prod_exp \\\n",
    "                .rename(None) \\\n",
    "                .squeeze()\n",
    "    \n",
    "    #assert(t.allclose(stripped, reference) )\n",
    "    print(reference, \"\\n\", stripped)\n",
    "    \n",
    "test_logmulmeanexp()"
   ]
  },
  {
   "cell_type": "code",
   "execution_count": null,
   "metadata": {},
   "outputs": [],
   "source": []
  },
  {
   "cell_type": "code",
   "execution_count": 231,
   "metadata": {},
   "outputs": [
    {
     "data": {
      "text/plain": [
       "tensor(0.5637)"
      ]
     },
     "execution_count": 231,
     "metadata": {},
     "output_type": "execute_result"
    }
   ],
   "source": []
  },
  {
   "cell_type": "code",
   "execution_count": null,
   "metadata": {},
   "outputs": [],
   "source": []
  },
  {
   "cell_type": "code",
   "execution_count": null,
   "metadata": {},
   "outputs": [],
   "source": [
    "def rearrange_by_plate(tensor_dict) :\n",
    "    \"\"\"\n",
    "    :param tensor_dict: dict of log_prob tensors\n",
    "    :return: dict of dicts of log_prob tensors, dividing by plates\n",
    "    \"\"\"\n",
    "    return NotImplementedError()\n",
    "\n",
    "\n",
    "# Sum:  sum over each plate\n",
    "def plate_sum() :\n",
    "    return NotImplementedError()"
   ]
  },
  {
   "cell_type": "code",
   "execution_count": null,
   "metadata": {},
   "outputs": [],
   "source": []
  },
  {
   "cell_type": "code",
   "execution_count": null,
   "metadata": {},
   "outputs": [],
   "source": [
    "# Consider Figure 1 from TMC\n",
    "\n",
    "\"\"\"\n",
    "z2 | z1\n",
    "z3 | z1\n",
    "z4 | z2\n",
    "x | z3, z4\n",
    "\"\"\"\n",
    "def simple_dist(trace):\n",
    "    k1 = trace[\"i1\"](WrappedDist(Normal, t.ones(3), 3))\n",
    "    k2 = trace[\"i2\"](WrappedDist(Normal, k1, 3))\n",
    "    k3 = trace[\"i3\"](WrappedDist(Normal, k2, 3))\n",
    "    (k3,) = trace.delete_names((\"i1\", \"i2\"), (k3,))\n",
    "    k4 = trace[\"i4\"](WrappedDist(Normal, k3, 3))\n",
    "    \n",
    "    return k4\n",
    "\n",
    "tr = sample_and_eval(simple_dist, draws=kappa, nProtected=2)#, data={\"a\": 2})"
   ]
  },
  {
   "cell_type": "markdown",
   "metadata": {},
   "source": [
    "## index-aware sampling"
   ]
  },
  {
   "cell_type": "code",
   "execution_count": null,
   "metadata": {},
   "outputs": [],
   "source": []
  },
  {
   "cell_type": "code",
   "execution_count": null,
   "metadata": {},
   "outputs": [],
   "source": []
  },
  {
   "cell_type": "code",
   "execution_count": null,
   "metadata": {},
   "outputs": [],
   "source": []
  },
  {
   "cell_type": "code",
   "execution_count": null,
   "metadata": {},
   "outputs": [],
   "source": []
  },
  {
   "cell_type": "code",
   "execution_count": null,
   "metadata": {},
   "outputs": [],
   "source": []
  }
 ],
 "metadata": {
  "kernelspec": {
   "display_name": "Python 3",
   "language": "python",
   "name": "python3"
  },
  "language_info": {
   "codemirror_mode": {
    "name": "ipython",
    "version": 3
   },
   "file_extension": ".py",
   "mimetype": "text/x-python",
   "name": "python",
   "nbconvert_exporter": "python",
   "pygments_lexer": "ipython3",
   "version": "3.8.3"
  }
 },
 "nbformat": 4,
 "nbformat_minor": 2
}
