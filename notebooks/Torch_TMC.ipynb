{
 "cells": [
  {
   "cell_type": "markdown",
   "metadata": {},
   "source": [
    "# TMC by hand, in raw Pytorch \n",
    "\n",
    "e.g. Conjugate Gaussian chain\n",
    "\n",
    "no `trace` or combine\n",
    "\n",
    "Should be possible to do a chain model (\"just a list of matrices\")\n",
    " \n",
    " `a = N(0, s)`\n",
    " \n",
    " `b = N(a, s)`\n",
    " \n",
    " `c = N(b, s)`\n",
    " \n",
    " i.e. one known variable $c$: the data, at the end of the chain\n"
   ]
  },
  {
   "cell_type": "markdown",
   "metadata": {},
   "source": [
    "\n",
    "<img src=\"tmc.png\" style=\"width: 60%;\"/>"
   ]
  },
  {
   "cell_type": "code",
   "execution_count": 13,
   "metadata": {},
   "outputs": [],
   "source": [
    "import math\n",
    "import numpy as np\n",
    "import torch as t\n",
    "import torch.nn as nn\n",
    "from torch.distributions import Normal, Categorical\n",
    "from torch.distributions import MultivariateNormal as MVN"
   ]
  },
  {
   "cell_type": "code",
   "execution_count": 32,
   "metadata": {},
   "outputs": [],
   "source": [
    "DATA_DIM = t.Size([1])\n",
    "N_VARS = 3\n",
    "BATCH_SIZE = 2 # samples per latent\n",
    "N_REC_LAYERS = 4"
   ]
  },
  {
   "cell_type": "code",
   "execution_count": 35,
   "metadata": {},
   "outputs": [
    {
     "data": {
      "text/plain": [
       "tensor([[[ 0.9510,  2.7697],\n",
       "         [-0.8664,  0.9501]],\n",
       "\n",
       "        [[-1.1987,  2.4266],\n",
       "         [ 0.5134,  1.5866]]])"
      ]
     },
     "execution_count": 35,
     "metadata": {},
     "output_type": "execute_result"
    }
   ],
   "source": [
    "# silly single sample model.\n",
    "# TODO: c is observed?\n",
    "def sample_model(k, prior_mean=0, var=1.0):\n",
    "    s = t.Size([k])\n",
    "    \n",
    "    a = Normal(prior_mean, var)\n",
    "    z_a = a.rsample(s)\n",
    "    \n",
    "    b = Normal(z_a, var)\n",
    "    z_b = b.rsample(s)\n",
    "    \n",
    "    c = Normal(z_b, var)\n",
    "    \n",
    "    return c.rsample(s)\n",
    "\n",
    "\n",
    "def condition(model, data) :\n",
    "    return\n",
    "\n",
    "\n",
    "\"\"\"\n",
    "    estimators\n",
    "\"\"\"\n",
    "def vae_marginal_likelihood(x,z) :\n",
    "    return P(x,z) / Q(z)\n",
    "\n",
    "def tmc_marginal_likelihood(log_probs, ks) :\n",
    "    norm = 1 / np.prod(ks)\n",
    "    \n",
    "    return norm * reduce_factors(log_probs)\n",
    "    \n",
    "    \n",
    "ks = [BATCH_SIZE] * N_VARS\n",
    "#tmc_marginal_likelihood(ks)\n",
    "\n",
    "samples = single_sample_model(BATCH_SIZE)\n",
    "samples\n",
    "\n",
    "# TODO\n",
    "#log_probs = get_factors()\n",
    "#tmc_marginal_likelihood(log_probs, ks)"
   ]
  },
  {
   "cell_type": "code",
   "execution_count": 28,
   "metadata": {},
   "outputs": [
    {
     "name": "stdout",
     "output_type": "stream",
     "text": [
      "tensor(-146.6355)\n"
     ]
    }
   ],
   "source": []
  },
  {
   "cell_type": "code",
   "execution_count": null,
   "metadata": {},
   "outputs": [],
   "source": [
    "\"\"\"\n",
    "- generate e.g. 3 variables\n",
    "- sample along the chain\n",
    "- compute the log_probs\n",
    "- optimise it\n",
    "\"\"\"\n",
    "\n",
    "class Simple_TMC(nn.Module):\n",
    "    def __init__(self, p, q):\n",
    "        self.p = p\n",
    "        self.q = q\n",
    "    \n"
   ]
  },
  {
   "cell_type": "code",
   "execution_count": null,
   "metadata": {},
   "outputs": [],
   "source": [
    "# \n",
    "\n",
    "EPOCHS = 3000\n",
    "\n",
    "def run(X, Y, ep=5000, eta=0.2) :\n",
    "    q = Simple_TMC()\n",
    "    optimiser = t.optim.Adam(q.parameters(), lr=eta)\n",
    "    #x = Variable(t.Tensor(X), requires_grad=False) \n",
    "    #y = Variable(t.Tensor(Y), requires_grad=False)\n",
    "\n",
    "    optimise(q, x, y, optimiser, ep)\n",
    "    \n",
    "    return q\n",
    "\n",
    "\n",
    "def optimise(q, x, y, optimiser, eps, verbose=False) :\n",
    "    for i in range(eps):\n",
    "        loss = - q.compute_elbo(x, y)\n",
    "        optimiser.zero_grad()\n",
    "        loss.backward(retain_graph=True)\n",
    "        optimiser.step()\n",
    "\n",
    "        if verbose :\n",
    "            if i % 500 == 0:\n",
    "                print(q.get_mean(), q.get_var())\n",
    "\n",
    "\n",
    "\n",
    "q = run(X, Y, ep=EPOCHS)"
   ]
  },
  {
   "cell_type": "code",
   "execution_count": null,
   "metadata": {},
   "outputs": [],
   "source": []
  },
  {
   "cell_type": "code",
   "execution_count": null,
   "metadata": {},
   "outputs": [],
   "source": []
  },
  {
   "cell_type": "code",
   "execution_count": null,
   "metadata": {},
   "outputs": [],
   "source": []
  },
  {
   "cell_type": "code",
   "execution_count": null,
   "metadata": {},
   "outputs": [],
   "source": []
  },
  {
   "cell_type": "code",
   "execution_count": null,
   "metadata": {},
   "outputs": [],
   "source": []
  },
  {
   "cell_type": "code",
   "execution_count": null,
   "metadata": {},
   "outputs": [],
   "source": []
  },
  {
   "cell_type": "code",
   "execution_count": null,
   "metadata": {},
   "outputs": [],
   "source": []
  },
  {
   "cell_type": "code",
   "execution_count": null,
   "metadata": {},
   "outputs": [],
   "source": []
  }
 ],
 "metadata": {
  "kernelspec": {
   "display_name": "Python 3",
   "language": "python",
   "name": "python3"
  },
  "language_info": {
   "codemirror_mode": {
    "name": "ipython",
    "version": 3
   },
   "file_extension": ".py",
   "mimetype": "text/x-python",
   "name": "python",
   "nbconvert_exporter": "python",
   "pygments_lexer": "ipython3",
   "version": "3.6.9"
  }
 },
 "nbformat": 4,
 "nbformat_minor": 2
}
